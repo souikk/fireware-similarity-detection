{
 "cells": [
  {
   "cell_type": "code",
   "execution_count": 2,
   "metadata": {},
   "outputs": [],
   "source": [
    "%matplotlib inline\n",
    "import os\n",
    "import torchvision\n",
    "import torchvision.datasets as dset\n",
    "import torchvision.transforms as transforms\n",
    "from torch.utils.data import DataLoader,Dataset\n",
    "import matplotlib.pyplot as plt\n",
    "import torchvision.utils\n",
    "import numpy as np\n",
    "import random\n",
    "from PIL import Image\n",
    "import torch\n",
    "from torch.autograd import Variable\n",
    "import PIL.ImageOps    \n",
    "import torch.nn as nn\n",
    "from torch import optim\n",
    "import torch.nn.functional as F"
   ]
  },
  {
   "cell_type": "markdown",
   "metadata": {},
   "source": [
    "## 辅助函数\n",
    "一些绘制图像等功能的辅助函数"
   ]
  },
  {
   "cell_type": "code",
   "execution_count": null,
   "metadata": {},
   "outputs": [],
   "source": [
    "def imshow(img,text=None,should_save=False):\n",
    "    npimg = img.numpy() #转换为numpy类型\n",
    "    plt.axis(\"off\")\n",
    "    if text:\n",
    "        plt.text(75, 8, text, style='italic',fontweight='bold',\n",
    "            bbox={'facecolor':'white', 'alpha':0.8, 'pad':10})\n",
    "    plt.imshow(np.transpose(npimg, (1, 2, 0)))#调整数组顺序\n",
    "    plt.show()    \n",
    "\n",
    "def show_plot(iteration,loss):\n",
    "    plt.plot(iteration,loss)\n",
    "    plt.show()"
   ]
  },
  {
   "cell_type": "markdown",
   "metadata": {},
   "source": [
    "## 定义配置类\n",
    "用于管理配置"
   ]
  },
  {
   "cell_type": "code",
   "execution_count": null,
   "metadata": {},
   "outputs": [],
   "source": [
    "class Config():\n",
    "    training_dir = \"./data/embeddingVectors/training/\"\n",
    "    testing_dir = \"./data/embeddingVectors/testing/\"\n",
    "    train_batch_size = 64\n",
    "    train_number_epochs = 100"
   ]
  },
  {
   "cell_type": "markdown",
   "metadata": {},
   "source": [
    "## 数据集处理类\n",
    "这个类会生成一对向量和一个标签，0表示相似，1表示不相似"
   ]
  },
  {
   "cell_type": "code",
   "execution_count": null,
   "metadata": {},
   "outputs": [],
   "source": [
    "class SiameseNetworkDataset(Dataset):\n",
    "    \n",
    "    def __init__(self,folderDataset):\n",
    "        #数据集的路径\n",
    "        self.folderDataset = folderDataset\n",
    "\n",
    "        \n",
    "    def __getitem__(self,index):\n",
    "        dirs = os.listdir(self.folderDataset)\n",
    "        vec0_folder = random.choice(dirs)\n",
    "        if os.path.isdir(os.path.join(self.folderDataset, vec0_folder)):\n",
    "            #we need to make sure approx 50% of examples are in the same class\n",
    "            should_get_same_class = random.randint(0,1) \n",
    "            if should_get_same_class:\n",
    "                while True:\n",
    "                    #keep looping till the same class example is found\n",
    "                    vec1_folder = random.choice(dirs)\n",
    "                    if os.path.isdir(self.folderDataset + \"/\" + vec1_folder):\n",
    "                        if vec0_folder==vec1_folder:\n",
    "                            files1_list = os.listdir(os.path.join(self.folderDataset, vec1_folder))\n",
    "                            files0_list = os.listdir(os.path.join(self.folderDataset, vec0_folder))\n",
    "                            sample0 = random.choice(files0_list)\n",
    "                            sample1 = random.choice(files1_list)\n",
    "                            break\n",
    "            else:\n",
    "                while True:\n",
    "                    #keep looping till a different class example is found\n",
    "                    vec1_folder = random.choice(dirs) \n",
    "                    if os.path.isdir(os.path.join(self.folderDataset, vec1_folder)):\n",
    "                        if vec0_folder !=vec1_folder:\n",
    "                            files1_list = os.listdir(os.path.join(self.folderDataset, vec1_folder))\n",
    "                            files0_list = os.listdir(os.path.join(self.folderDataset, vec0_folder))\n",
    "                            sample0 = random.choice(files0_list)\n",
    "                            sample1 = random.choice(files1_list)\n",
    "                            break\n",
    "        #读取文件中的向量数据\n",
    "        \n",
    "        return sample0, sample1 , torch.from_numpy(np.array([int(vec1_folder!=vec0_folder)],dtype=np.float32))\n",
    "    \n",
    "    def __len__(self):\n",
    "        dirs = os.listdir(self.folderDataset)\n",
    "        len = 0\n",
    "        for  i, dir in enumerate(dirs, 0):\n",
    "            file_list = os.listdir(os.path.join(self.folderDataset, dir))\n",
    "            len += file_list.count()\n",
    "                \n",
    "        return len"
   ]
  },
  {
   "cell_type": "markdown",
   "metadata": {},
   "source": [
    "## 定义神经网络"
   ]
  },
  {
   "cell_type": "code",
   "execution_count": 3,
   "metadata": {},
   "outputs": [],
   "source": [
    "class SiameseNetwork(nn.Module):\n",
    "    def __init__(self):\n",
    "        super(SiameseNetwork, self).__init__() #调用父类nn.Module.__init__(),调用父类的构造函数\n",
    "\n",
    "        self.fc1 = nn.Sequential(\n",
    "            nn.Linear(64, 500),\n",
    "            nn.ReLU(inplace=True),\n",
    "\n",
    "            nn.Linear(500, 500),\n",
    "            nn.ReLU(inplace=True),\n",
    "\n",
    "            nn.Linear(500, 5))\n",
    "\n",
    "    def forward_once(self, x):\n",
    "        output = self.fc1(x)\n",
    "        return output\n",
    "\n",
    "    def forward(self, input1, input2):\n",
    "        output1 = self.forward_once(input1)\n",
    "        output2 = self.forward_once(input2)\n",
    "        return output1, output2"
   ]
  },
  {
   "cell_type": "markdown",
   "metadata": {},
   "source": [
    "## 定义损失函数"
   ]
  },
  {
   "cell_type": "code",
   "execution_count": null,
   "metadata": {},
   "outputs": [],
   "source": [
    "class ContrastiveLoss(torch.nn.Module):\n",
    "    \"\"\"\n",
    "    Contrastive loss function.\n",
    "    Based on: http://yann.lecun.com/exdb/publis/pdf/hadsell-chopra-lecun-06.pdf\n",
    "    \"\"\"\n",
    "\n",
    "    def __init__(self, margin=2.0):\n",
    "        super(ContrastiveLoss, self).__init__()\n",
    "        self.margin = margin\n",
    "\n",
    "    def forward(self, output1, output2, label):\n",
    "        euclidean_distance = F.pairwise_distance(output1, output2, keepdim = True)#计算欧式距离\n",
    "        #如果属于同一类则让两者距离尽可能的小，若不属于同一类则让距离大于等于margin\n",
    "        loss_contrastive = torch.mean((1-label) * torch.pow(euclidean_distance, 2) +\n",
    "                                      (label) * torch.pow(torch.clamp(self.margin - euclidean_distance, min=0.0), 2))\n",
    "\n",
    "        return loss_contrastive"
   ]
  },
  {
   "cell_type": "markdown",
   "metadata": {},
   "source": [
    "## 开始训练!"
   ]
  },
  {
   "cell_type": "code",
   "execution_count": null,
   "metadata": {},
   "outputs": [],
   "source": [
    "folder_dataset = dset.ImageFolder(root=Config.training_dir)\n",
    "#其默认你的数据集已经自觉按照要分配的类型分成了不同的文件夹，一种类型的文件夹下面只存放一种类型的数据\n",
    "siamese_dataset = SiameseNetworkDataset(folderDataset=folder_dataset)\n",
    "train_dataloader = DataLoader(siamese_dataset,\n",
    "                        shuffle=True,\n",
    "                        num_workers=8,\n",
    "                        batch_size=Config.train_batch_size)\n",
    "net = SiameseNetwork().cuda()\n",
    "criterion = ContrastiveLoss()\n",
    "optimizer = optim.Adam(net.parameters(),lr = 0.0005 )\n",
    "counter = []\n",
    "loss_history = [] \n",
    "iteration_number= 0\n",
    "for epoch in range(0,Config.train_number_epochs):\n",
    "    for i, data in enumerate(train_dataloader,0):\n",
    "        sample0, sample1 , label = data\n",
    "        sample0, sample1 , label = sample0.cuda(), sample1.cuda() , label.cuda()#从cpu转移到gpu\n",
    "        optimizer.zero_grad()#模型中参数的梯度设为0\n",
    "        output1,output2 = net(sample0,sample1)\n",
    "        loss_contrastive = criterion(output1,output2,label)\n",
    "        loss_contrastive.backward()\n",
    "        optimizer.step()\n",
    "        if i %10 == 0 :\n",
    "            print(\"Epoch number {}\\n Current loss {}\\n\".format(epoch,loss_contrastive.item()))\n",
    "            iteration_number +=10\n",
    "            counter.append(iteration_number)\n",
    "            loss_history.append(loss_contrastive.item())\n",
    "show_plot(counter,loss_history)"
   ]
  },
  {
   "cell_type": "markdown",
   "metadata": {},
   "source": [
    "## 测试\n",
    "用欧式距离表示其相似性，label0表示相似，1表示不相似\n",
    "The last 3 subjects were held out from the training, and will be used to test. The Distance between each image pair denotes the degree of similarity the model found between the two images. Less means it found more similar, while higher values indicate it found them to be dissimilar."
   ]
  },
  {
   "cell_type": "code",
   "execution_count": null,
   "metadata": {},
   "outputs": [],
   "source": [
    "folder_dataset_test = dset.ImageFolder(root=Config.testing_dir)\n",
    "siamese_dataset = SiameseNetworkDataset(folderDataset=folder_dataset_test)\n",
    "\n",
    "test_dataloader = DataLoader(siamese_dataset,num_workers=6,batch_size=1,shuffle=True)\n",
    "dataiter = iter(test_dataloader)\n",
    "\n",
    "\n",
    "for i in range(10):\n",
    "    x0,x1,label2 = next(dataiter)\n",
    "\n",
    "    output1,output2 = net(Variable(x0).cuda(),Variable(x1).cuda())\n",
    "    euclidean_distance = F.pairwise_distance(output1, output2)\n",
    "    print(\"euclidean_distance: %lf , lable %d\" %(euclidean_distance.item(), label2))\n"
   ]
  }
 ],
 "metadata": {
  "interpreter": {
   "hash": "31f2aee4e71d21fbe5cf8b01ff0e069b9275f58929596ceb00d14d90e3e16cd6"
  },
  "kernelspec": {
   "display_name": "Python 3.6.9 64-bit",
   "language": "python",
   "name": "python3"
  },
  "language_info": {
   "codemirror_mode": {
    "name": "ipython",
    "version": 3
   },
   "file_extension": ".py",
   "mimetype": "text/x-python",
   "name": "python",
   "nbconvert_exporter": "python",
   "pygments_lexer": "ipython3",
   "version": "3.6.9"
  },
  "orig_nbformat": 4
 },
 "nbformat": 4,
 "nbformat_minor": 2
}
